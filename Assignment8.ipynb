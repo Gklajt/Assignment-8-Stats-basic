{
 "cells": [
  {
   "cell_type": "markdown",
   "metadata": {},
   "source": [
    "Task1.1"
   ]
  },
  {
   "cell_type": "code",
   "execution_count": 2,
   "metadata": {},
   "outputs": [
    {
     "data": {
      "text/plain": [
       "367.99003609699366"
      ]
     },
     "execution_count": 2,
     "metadata": {},
     "output_type": "execute_result"
    }
   ],
   "source": [
    "import pandas as pd\n",
    "a = ['$1550', '$1700', '$900', '$850', '$1000', '$950']\n",
    "a= pd.Series(a)\n",
    "a = a.str.replace('$','').astype(int)\n",
    "a.std()"
   ]
  },
  {
   "cell_type": "markdown",
   "metadata": {},
   "source": [
    "Task1.2"
   ]
  },
  {
   "cell_type": "code",
   "execution_count": 13,
   "metadata": {},
   "outputs": [
    {
     "data": {
      "text/plain": [
       "6219.9"
      ]
     },
     "execution_count": 13,
     "metadata": {},
     "output_type": "execute_result"
    }
   ],
   "source": [
    "import statistics as stat\n",
    "S = [3,21,98,203,17,9]\n",
    "stat.variance(S)"
   ]
  },
  {
   "cell_type": "markdown",
   "metadata": {},
   "source": [
    "Task1.3"
   ]
  },
  {
   "cell_type": "code",
   "execution_count": 39,
   "metadata": {},
   "outputs": [],
   "source": [
    "N = 100\n",
    "X=[80,10,7,3]\n",
    "def proba(x,n):\n",
    "    if type(x) == list :\n",
    "        P = [x/n for x in x]\n",
    "    else :\n",
    "        P= x/n\n",
    "    return P"
   ]
  },
  {
   "cell_type": "code",
   "execution_count": 40,
   "metadata": {},
   "outputs": [
    {
     "data": {
      "text/plain": [
       "[0.8, 0.1, 0.07, 0.03]"
      ]
     },
     "execution_count": 40,
     "metadata": {},
     "output_type": "execute_result"
    }
   ],
   "source": [
    "proba(X,N)"
   ]
  },
  {
   "cell_type": "markdown",
   "metadata": {},
   "source": [
    "Task2 .1"
   ]
  },
  {
   "cell_type": "code",
   "execution_count": 55,
   "metadata": {},
   "outputs": [],
   "source": [
    "import math\n",
    "n=20\n",
    "k = 15\n",
    "p=1/4\n",
    "pw = 1-1/4"
   ]
  },
  {
   "cell_type": "markdown",
   "metadata": {},
   "source": [
    "P (‘k’ successes in ‘n’ trials) = C(n,k)sk(1−s)(n−k)"
   ]
  },
  {
   "cell_type": "code",
   "execution_count": 20,
   "metadata": {},
   "outputs": [
    {
     "data": {
      "text/plain": [
       "3.4264958230778435e-06"
      ]
     },
     "execution_count": 20,
     "metadata": {},
     "output_type": "execute_result"
    }
   ],
   "source": [
    "#method1\n",
    "from scipy.stats import binom\n",
    "scipy.stats.binom.pmf(15,20,1/4)"
   ]
  },
  {
   "cell_type": "code",
   "execution_count": 68,
   "metadata": {},
   "outputs": [
    {
     "data": {
      "text/plain": [
       "3.4264958230778575e-06"
      ]
     },
     "execution_count": 68,
     "metadata": {},
     "output_type": "execute_result"
    }
   ],
   "source": [
    "#method2\n",
    "((math.factorial(n)/math.factorial(k))/math.factorial(n-k))*(p**k)*(pw**(n-k))"
   ]
  },
  {
   "cell_type": "markdown",
   "metadata": {},
   "source": [
    "Task 2.2"
   ]
  },
  {
   "cell_type": "code",
   "execution_count": 1,
   "metadata": {},
   "outputs": [
    {
     "data": {
      "text/plain": [
       "'find P(D=5)'"
      ]
     },
     "execution_count": 1,
     "metadata": {},
     "output_type": "execute_result"
    }
   ],
   "source": [
    "n=50\n",
    "p_of_D = 1/5\n",
    "p_of_other=1-(p_of_D)\n",
    "k=5\n",
    "nk = n-k\n",
    "'find P(D=5)'"
   ]
  },
  {
   "cell_type": "code",
   "execution_count": 72,
   "metadata": {},
   "outputs": [
    {
     "data": {
      "text/plain": [
       "0.029531204310524303"
      ]
     },
     "execution_count": 72,
     "metadata": {},
     "output_type": "execute_result"
    }
   ],
   "source": [
    "#Method1\n",
    "((math.factorial(n)/math.factorial(k))/math.factorial(n-k))*(p_of_D**k)*(p_of_other**(n-k))"
   ]
  },
  {
   "cell_type": "code",
   "execution_count": 19,
   "metadata": {},
   "outputs": [
    {
     "data": {
      "text/plain": [
       "0.029531204310523224"
      ]
     },
     "execution_count": 19,
     "metadata": {},
     "output_type": "execute_result"
    }
   ],
   "source": [
    "#Method2\n",
    "from scipy.stats import binom\n",
    "scipy.stats.binom.pmf(5,50,1/5)"
   ]
  },
  {
   "cell_type": "markdown",
   "metadata": {},
   "source": [
    "Task2.3"
   ]
  },
  {
   "cell_type": "code",
   "execution_count": 39,
   "metadata": {},
   "outputs": [
    {
     "name": "stdout",
     "output_type": "stream",
     "text": [
      "probability of both Red is : 2/15\n",
      "probability of one Red & Black is : 8/15\n",
      "probability of both Black is : 1/3\n",
      "Notice that the sum of the probabilities is : 1\n"
     ]
    }
   ],
   "source": [
    "from fractions import Fraction\n",
    "N=10\n",
    "R=4\n",
    "B=6\n",
    "\n",
    "RR = ((R/N)*((R-1)/(N-1)))\n",
    "RB = ((R/N)*(B/(N-1)))\n",
    "BR = ((B/N)*(R/(N-1)))\n",
    "BB = ((B/N)*((B-1)/(N-1)))\n",
    "\n",
    "print('probability of both Red is :',Fraction(RR).limit_denominator())\n",
    "print('probability of one Red or Black is :',Fraction(RB+BR).limit_denominator())\n",
    "print('probability of both Black is :',Fraction(BB).limit_denominator())\n",
    "print('Notice that the sum of the probabilities is :',Fraction(RR).limit_denominator()+Fraction(RB+BR).limit_denominator()+Fraction(BB).limit_denominator())"
   ]
  },
  {
   "cell_type": "code",
   "execution_count": null,
   "metadata": {},
   "outputs": [],
   "source": []
  }
 ],
 "metadata": {
  "kernelspec": {
   "display_name": "Python 3",
   "language": "python",
   "name": "python3"
  },
  "language_info": {
   "codemirror_mode": {
    "name": "ipython",
    "version": 3
   },
   "file_extension": ".py",
   "mimetype": "text/x-python",
   "name": "python",
   "nbconvert_exporter": "python",
   "pygments_lexer": "ipython3",
   "version": "3.7.1"
  }
 },
 "nbformat": 4,
 "nbformat_minor": 2
}
